{
 "cells": [
  {
   "attachments": {},
   "cell_type": "markdown",
   "metadata": {},
   "source": [
    "**Métodos de *strings***\n",
    "\n",
    "Dado el siguiente *string* \n",
    "\n",
    "```python\n",
    "\n",
    "string = \"\"\"Hoy estamos en una clase de repaso,\n",
    "el objetivo es intentar solucionar todas vuestras dudas, \n",
    "preguntad todo lo que queráis! \n",
    "\"\"\"\n",
    "```\n",
    "\n",
    "\n",
    "Contesta a las siguientes preguntas: \n",
    "\n",
    "1️⃣ Crea dos variables nuevas: \n",
    "    - Una con el *string* en mayúsculas\n",
    "    - Otra con las letras en minúsculas\n",
    "\n",
    "2️⃣ Pon todas las primeras letras del *string* en mayúscula\n",
    "\n",
    "3️⃣ Separa el *string*  por los espacios y almacena el resultado en una lista llamanda `texto_lista`\n",
    "\n",
    "4️⃣ De la lista obtenida en el ejercicio anterior, selecciona solo los 5 primero elementos y almacena los resultados en una variable que se llame `texto_lista_corta` \n",
    "\n",
    "5️⃣ De la lista obtenida en el ejercicio 5. Vuelve a convertirlo en *string* \n",
    "\n",
    "6️⃣ Con el *string* obtenido en el paso anterior: \n",
    "\n",
    "    - Esta la palabra \"el\" en el *string* \n",
    "\n",
    "    - Reemplaza \"Hoy\" por nada\n",
    "\n",
    "    - El ejercicio anterior nos ha dejado espacios al inicio del string, eliminalos\n"
   ]
  },
  {
   "cell_type": "code",
   "execution_count": 34,
   "metadata": {},
   "outputs": [
    {
     "data": {
      "text/plain": [
       "'HOY ESTAMOS EN UNA CLASE DE REPASO,EL OBJETIVO ES INTENTAR SOLUCIONAR TODAS VUESTRAS DUDAS, PREGUNTAD TODO LO QUE QUERÁIS!'"
      ]
     },
     "execution_count": 34,
     "metadata": {},
     "output_type": "execute_result"
    }
   ],
   "source": [
    "## 1. Crea dos variables nuevas: \n",
    "  ##  - Una con el *string* en mayúsculas\n",
    "  \n",
    "\n",
    "string = \"Hoy estamos en una clase de repaso,el objetivo es intentar solucionar todas vuestras dudas, preguntad todo lo que queráis!\"\n",
    "string_mayuscula = string.upper()\n",
    "string_mayuscula"
   ]
  },
  {
   "cell_type": "code",
   "execution_count": 35,
   "metadata": {},
   "outputs": [
    {
     "data": {
      "text/plain": [
       "'hoy estamos en una clase de repaso,el objetivo es intentar solucionar todas vuestras dudas, preguntad todo lo que queráis!'"
      ]
     },
     "execution_count": 35,
     "metadata": {},
     "output_type": "execute_result"
    }
   ],
   "source": [
    " ## - Otra con las letras en minúsculas\n",
    "string_minuscula = string.lower()\n",
    "string_minuscula"
   ]
  },
  {
   "cell_type": "code",
   "execution_count": 36,
   "metadata": {},
   "outputs": [
    {
     "data": {
      "text/plain": [
       "'Hoy Estamos En Una Clase De Repaso,El Objetivo Es Intentar Solucionar Todas Vuestras Dudas, Preguntad Todo Lo Que Queráis!'"
      ]
     },
     "execution_count": 36,
     "metadata": {},
     "output_type": "execute_result"
    }
   ],
   "source": [
    "### 2. Pon todas las primeras letras del *string* en mayúscula\n",
    "string_titulo = string.title()\n",
    "string_titulo"
   ]
  },
  {
   "cell_type": "code",
   "execution_count": 37,
   "metadata": {},
   "outputs": [
    {
     "data": {
      "text/plain": [
       "['Hoy',\n",
       " 'estamos',\n",
       " 'en',\n",
       " 'una',\n",
       " 'clase',\n",
       " 'de',\n",
       " 'repaso,el',\n",
       " 'objetivo',\n",
       " 'es',\n",
       " 'intentar',\n",
       " 'solucionar',\n",
       " 'todas',\n",
       " 'vuestras',\n",
       " 'dudas,',\n",
       " 'preguntad',\n",
       " 'todo',\n",
       " 'lo',\n",
       " 'que',\n",
       " 'queráis!']"
      ]
     },
     "execution_count": 37,
     "metadata": {},
     "output_type": "execute_result"
    }
   ],
   "source": [
    "## 3. Separa el *string*  por los espacios y almacena el resultado en una lista llamanda `texto_lista`\n",
    "texto_lista = string.split(\" \")\n",
    "texto_lista"
   ]
  },
  {
   "cell_type": "code",
   "execution_count": 38,
   "metadata": {},
   "outputs": [
    {
     "data": {
      "text/plain": [
       "['Hoy', 'estamos', 'en', 'una', 'clase']"
      ]
     },
     "execution_count": 38,
     "metadata": {},
     "output_type": "execute_result"
    }
   ],
   "source": [
    "### 4. De la lista obtenida en el ejercicio anterior, selecciona solo los 5 primero elementos \n",
    "## y almacena los resultados en una variable que se llame `texto_lista_corta`\n",
    "\n",
    "texto_lista_corta = texto_lista[:5]\n",
    "texto_lista_corta\n"
   ]
  },
  {
   "cell_type": "code",
   "execution_count": 39,
   "metadata": {},
   "outputs": [
    {
     "data": {
      "text/plain": [
       "'Hoy estamos en una clase'"
      ]
     },
     "execution_count": 39,
     "metadata": {},
     "output_type": "execute_result"
    }
   ],
   "source": [
    "## 5.  De la lista obtenida en el ejercicio 5. Vuelve a convertirlo en *string*\n",
    "lista_string = \" \".join(texto_lista_corta)\n",
    "lista_string"
   ]
  },
  {
   "attachments": {},
   "cell_type": "markdown",
   "metadata": {},
   "source": [
    "#### 6. Con el *string* obtenido en el paso anterior:  "
   ]
  },
  {
   "cell_type": "code",
   "execution_count": 40,
   "metadata": {},
   "outputs": [
    {
     "name": "stdout",
     "output_type": "stream",
     "text": [
      "está la palabra `el` incluida: False\n"
     ]
    }
   ],
   "source": [
    "print(f\"está la palabra `el` incluida:\", \"el\" in lista_string)\n",
    "\n",
    "# - Esta la palabra \"el\" en el *string* "
   ]
  },
  {
   "cell_type": "code",
   "execution_count": 41,
   "metadata": {},
   "outputs": [
    {
     "data": {
      "text/plain": [
       "' estamos en una clase'"
      ]
     },
     "execution_count": 41,
     "metadata": {},
     "output_type": "execute_result"
    }
   ],
   "source": [
    "nueva_lista_string = lista_string.replace(\"Hoy\",\"\")\n",
    "nueva_lista_string\n",
    "\n",
    "  #- Reemplaza \"Hoy\" por nada\n"
   ]
  },
  {
   "cell_type": "code",
   "execution_count": 42,
   "metadata": {},
   "outputs": [
    {
     "name": "stdout",
     "output_type": "stream",
     "text": [
      "estamos en una clase\n"
     ]
    }
   ],
   "source": [
    "sin_espacios = nueva_lista_string.strip()\n",
    "print(sin_espacios)\n",
    "\n",
    "  #- El ejercicio anterior nos ha dejado espacios al inicio del string, eliminalos"
   ]
  },
  {
   "attachments": {},
   "cell_type": "markdown",
   "metadata": {},
   "source": [
    "**Encuentra el número que no está en la lista**\n",
    "\n",
    "Tenemos una lista desordenada con números positivos de 1 a n. Siempre faltará un sólo número de esta lista aleatoria, ¿cómo identifico cuál falta? Cread un programa para que este código devuelva los resultados deseados:\n",
    "\n",
    "```python\n",
    "lista1 = [3,7,1,2,8,4,5] # nos tiene que devolver 6\n",
    "lista2 = [4,6,1,3,5] #  nos tiene que devolver 2\n",
    "lista3 = [34,35,36,38,39,40] # nos tiene que devolver 37\n",
    "```\n",
    "\n",
    "BONUS: Introduce los resultados obtenidos en un diccionario, indicando que numero falta para cada una de las listas:\n",
    "```python\n",
    "# por ejemplo\n",
    "\n",
    "resultados = {'falta_lista_1': valor_numerico_1, 'falta_lista_2': valor_numerico_2, 'falta_lista_3': valor_numerico_3}\n",
    "```"
   ]
  },
  {
   "cell_type": "code",
   "execution_count": 43,
   "metadata": {},
   "outputs": [],
   "source": [
    "lista1 = [3,7,1,2,8,4,5]\n",
    "lista2 = [4,6,1,3,5] \n",
    "lista3 = [34,35,36,38,39,40]\n",
    "resultados = {}\n",
    "## creamos las variables"
   ]
  },
  {
   "cell_type": "code",
   "execution_count": 44,
   "metadata": {},
   "outputs": [
    {
     "name": "stdout",
     "output_type": "stream",
     "text": [
      "[1, 2, 3, 4, 5, 7, 8]\n",
      "[1, 3, 4, 5, 6]\n",
      "[34, 35, 36, 38, 39, 40]\n"
     ]
    }
   ],
   "source": [
    "lista1.sort()\n",
    "print(lista1)\n",
    "lista2.sort()\n",
    "print(lista2)\n",
    "lista3.sort()\n",
    "print(lista3)\n",
    "## ordenamos las listas"
   ]
  },
  {
   "cell_type": "code",
   "execution_count": 45,
   "metadata": {},
   "outputs": [
    {
     "name": "stdout",
     "output_type": "stream",
     "text": [
      "el número que falta es 6\n"
     ]
    }
   ],
   "source": [
    "for num in range(1, 8):\n",
    "    if num in lista1:\n",
    "        pass\n",
    "    else:\n",
    "       print(f\"el número que falta es {num}\")\n",
    "       resultados.update({ \"falta_lista_1\" : num})\n",
    "\n",
    "## Averiguamos que número falta en cada lista, lo imprimimos y agregamos al diccionario\n",
    "## que nos piden\n",
    "\n",
    "       "
   ]
  },
  {
   "cell_type": "code",
   "execution_count": 46,
   "metadata": {},
   "outputs": [
    {
     "name": "stdout",
     "output_type": "stream",
     "text": [
      "el número que falta es 2\n"
     ]
    }
   ],
   "source": [
    "for num in range(1, 7):\n",
    "    if num in lista2:\n",
    "        pass\n",
    "    else:\n",
    "        print(f\"el número que falta es {num}\")\n",
    "        resultados.update({ \"falta_lista_2\" : num})"
   ]
  },
  {
   "cell_type": "code",
   "execution_count": 47,
   "metadata": {},
   "outputs": [
    {
     "name": "stdout",
     "output_type": "stream",
     "text": [
      "el número que falta es 37\n"
     ]
    }
   ],
   "source": [
    "for num in range(34, 41):\n",
    "    if num in lista3:\n",
    "        pass\n",
    "    else:\n",
    "        print(f\"el número que falta es {num}\")\n",
    "        resultados.update({ \"falta_lista_3\" : num})"
   ]
  },
  {
   "cell_type": "code",
   "execution_count": 48,
   "metadata": {},
   "outputs": [
    {
     "name": "stdout",
     "output_type": "stream",
     "text": [
      "{'falta_lista_1': 6, 'falta_lista_2': 2, 'falta_lista_3': 37}\n"
     ]
    }
   ],
   "source": [
    "## BONUS: Imprimimos el diccionario con los números que faltan.\n",
    "print(resultados)"
   ]
  },
  {
   "cell_type": "markdown",
   "metadata": {},
   "source": [
    "**Mover los ceros a la izquierda**\n",
    "\n",
    "Nos dan un *string* con números aleatorios. Algunos de ellos son 0. Encuentra todos los ceros y ponlos al principio de la lista, manteniendo el orden de los demás números.\n",
    "\n",
    "Ejemplo:\n",
    "\n",
    "```python\n",
    "A = [1,10,88,0,59,63,0,20,0]\n",
    "\n",
    "# tiene que devolver\n",
    "[0, 0, 0, 1, 10, 88, 59, 63, 20]\n",
    "```"
   ]
  },
  {
   "cell_type": "code",
   "execution_count": 49,
   "metadata": {},
   "outputs": [],
   "source": [
    "A = [1,10,88,0,59,63,0,20,0]\n",
    "B = []\n",
    "\n",
    "# definimos la variable y creamos una lista nueva para insertar los resultados."
   ]
  },
  {
   "cell_type": "code",
   "execution_count": 50,
   "metadata": {},
   "outputs": [],
   "source": [
    "for num in A:\n",
    "    if num != 0:\n",
    "        B.append(num)\n",
    "    elif num == 0:\n",
    "        B.insert(0, num)\n",
    "\n"
   ]
  },
  {
   "cell_type": "code",
   "execution_count": 51,
   "metadata": {},
   "outputs": [
    {
     "data": {
      "text/plain": [
       "[0, 0, 0, 1, 10, 88, 59, 63, 20]"
      ]
     },
     "execution_count": 51,
     "metadata": {},
     "output_type": "execute_result"
    }
   ],
   "source": [
    "B"
   ]
  },
  {
   "cell_type": "markdown",
   "metadata": {},
   "source": [
    "**Invertir palabras de una frase**\n",
    "\n",
    "Nos dan una frase en que quieren que las letras de cada palabra acaben teniendo el orden invertido, manteniendo el orden de las palabras.\n",
    "\n",
    "```python\n",
    "frase = 'Hola Ada'\n",
    "print(frase) # nos daría 'aloH adA'\n",
    "```"
   ]
  },
  {
   "cell_type": "code",
   "execution_count": 52,
   "metadata": {},
   "outputs": [],
   "source": [
    "frase = \"Hola Ada\"\n",
    "## Definimos la variable."
   ]
  },
  {
   "cell_type": "code",
   "execution_count": 53,
   "metadata": {},
   "outputs": [
    {
     "data": {
      "text/plain": [
       "'aloH adA'"
      ]
     },
     "execution_count": 53,
     "metadata": {},
     "output_type": "execute_result"
    }
   ],
   "source": [
    "frase2 = frase.split(\" \")\n",
    "frase3 = frase2[0][::-1] + \" \" + frase2[1][::-1]\n",
    "frase3\n",
    "\n",
    "## separamos el string por espacios y accedemos a cada palabra por el final."
   ]
  },
  {
   "attachments": {},
   "cell_type": "markdown",
   "metadata": {},
   "source": [
    "###  ¿Es un DNI valido?\n",
    "\n",
    "Los DNI españoles pueden ser:\n",
    "\n",
    "- NIF (Numero de Identificación Fiscal) - 8 numeros y una letra, o\n",
    "- NIE (Numero de Identificación de Extranjeros) - 1 letra, 7 numeros y 1 letra."
   ]
  },
  {
   "cell_type": "code",
   "execution_count": 54,
   "metadata": {},
   "outputs": [],
   "source": [
    "lista_dni = [\"X-1234567-Z\", \"X-1234567\", \"12345678-M\", \"1234567-T\", \"12345677\"] \n",
    "dni_nie_valido = []\n",
    "dni_nie_invalido = []\n",
    "\n",
    "## definimos la variable y creamos dos listas para incluir válidos y no válidos."
   ]
  },
  {
   "cell_type": "code",
   "execution_count": 55,
   "metadata": {},
   "outputs": [],
   "source": [
    "for x in lista_dni:\n",
    "    dni_nie_juntos = x.split(\"-\")\n",
    "\n",
    "    if len(dni_nie_juntos) == 3:\n",
    "        if len(dni_nie_juntos[0]) == 1 and len(dni_nie_juntos[1]) == 7 and len(dni_nie_juntos[2]) == 1:\n",
    "            dni_nie_valido.append(x)\n",
    "        else:\n",
    "            dni_nie_invalido.append(x)  \n",
    "\n",
    "            \n",
    "    if len(dni_nie_juntos) == 2:\n",
    "        if len(dni_nie_juntos[0])== 8 and len(dni_nie_juntos[1]) == 1:\n",
    "            dni_nie_valido.append(x)      \n",
    "        else:\n",
    "            dni_nie_invalido.append(x)\n",
    "            \n",
    "        \n",
    "    else:\n",
    "        dni_nie_invalido.append(x)\n",
    "     \n",
    "    ## separamos cada string para saber su longitud (2= dni, 3 = nie)\n",
    "    ## comprobamos cada elemento y lo agregamos a la lista que corresponda.\n"
   ]
  },
  {
   "cell_type": "code",
   "execution_count": 56,
   "metadata": {},
   "outputs": [
    {
     "data": {
      "text/plain": [
       "['X-1234567-Z', '12345678-M']"
      ]
     },
     "execution_count": 56,
     "metadata": {},
     "output_type": "execute_result"
    }
   ],
   "source": [
    "dni_nie_valido\n"
   ]
  },
  {
   "cell_type": "code",
   "execution_count": 57,
   "metadata": {},
   "outputs": [
    {
     "data": {
      "text/plain": [
       "['X-1234567-Z', 'X-1234567', '1234567-T', '12345677']"
      ]
     },
     "execution_count": 57,
     "metadata": {},
     "output_type": "execute_result"
    }
   ],
   "source": [
    "dni_nie_invalido"
   ]
  },
  {
   "attachments": {},
   "cell_type": "markdown",
   "metadata": {},
   "source": [
    "**BONUS: Encuentra los k números más cerca a X**\n",
    "\n",
    "\n",
    "Haz una programa que compare los contenidos de una lista a un número dado X. Queremos que nos devuelva los k números que son más parecidos al número dado.\n",
    "\n",
    "Ejemplo:\n",
    "```python\n",
    "L = [4, 19, -5, 100, 53, 43, 74, -83, 13.5, 26]\n",
    "# Dados los siguientes valores \n",
    "x =30\n",
    "k = 3 # el número de números que tendremos que buscar en la lista que se parecen a 30 \n",
    "# El output debería ser igual a [26, 19, 43]\n",
    "```"
   ]
  },
  {
   "cell_type": "code",
   "execution_count": 58,
   "metadata": {},
   "outputs": [],
   "source": [
    "L = [4, 19, -5, 100, 53, 43, 74, -83, 13.5, 26]\n",
    "x = 30\n",
    "k = 3\n",
    "restas = []\n"
   ]
  },
  {
   "cell_type": "code",
   "execution_count": 59,
   "metadata": {},
   "outputs": [
    {
     "name": "stdout",
     "output_type": "stream",
     "text": [
      "[26]\n",
      "[26, 11]\n",
      "[26, 11, 35]\n",
      "[26, 11, 35, 70, 23, 13, 44, 113]\n",
      "[26, 11, 35, 70, 23, 13, 44, 113, 16.5]\n",
      "[26, 11, 35, 70, 23, 13, 44, 113, 16.5, 4]\n"
     ]
    }
   ],
   "source": [
    "for i in L:\n",
    "    if i > x:\n",
    "        resta = i - x\n",
    "        restas.append(resta)\n",
    "    elif i <= x:\n",
    "        resta = x - i \n",
    "        restas.append(resta)\n",
    "        print(restas)\n",
    "    \n",
    "    ## hemos creado una lista con los resultados de 30 menos el valor de la lista"
   ]
  },
  {
   "cell_type": "code",
   "execution_count": 60,
   "metadata": {},
   "outputs": [],
   "source": [
    "unimos_listas = list(zip(restas, L))\n",
    "unimos_listas.sort()\n",
    "\n",
    "## unimos las dos y las ordenamosn(por diferencia) para saber cuales estan mas cerca de 30"
   ]
  },
  {
   "cell_type": "code",
   "execution_count": 61,
   "metadata": {},
   "outputs": [
    {
     "data": {
      "text/plain": [
       "[(4, 26),\n",
       " (11, 19),\n",
       " (13, 43),\n",
       " (16.5, 13.5),\n",
       " (23, 53),\n",
       " (26, 4),\n",
       " (35, -5),\n",
       " (44, 74),\n",
       " (70, 100),\n",
       " (113, -83)]"
      ]
     },
     "execution_count": 61,
     "metadata": {},
     "output_type": "execute_result"
    }
   ],
   "source": [
    "unimos_listas"
   ]
  },
  {
   "cell_type": "code",
   "execution_count": 62,
   "metadata": {},
   "outputs": [
    {
     "data": {
      "text/plain": [
       "[(4, 26), (11, 19), (13, 43)]"
      ]
     },
     "execution_count": 62,
     "metadata": {},
     "output_type": "execute_result"
    }
   ],
   "source": [
    "resultado = unimos_listas[:k]\n",
    "## accedemos hasta el numero k veces que nos piden\n",
    "resultado"
   ]
  },
  {
   "cell_type": "code",
   "execution_count": 63,
   "metadata": {},
   "outputs": [
    {
     "name": "stdout",
     "output_type": "stream",
     "text": [
      "[26]\n",
      "[26, 19]\n",
      "[26, 19, 43]\n"
     ]
    }
   ],
   "source": [
    "resultado2 = []\n",
    "for a, b in resultado:\n",
    "    resultado2.append(b)\n",
    "    print(resultado2)\n",
    "\n",
    "    ## accedemos solo a las values, que es lo que nos piden y creamos una lista con estos valores."
   ]
  }
 ],
 "metadata": {
  "kernelspec": {
   "display_name": "Python 3",
   "language": "python",
   "name": "python3"
  },
  "language_info": {
   "codemirror_mode": {
    "name": "ipython",
    "version": 3
   },
   "file_extension": ".py",
   "mimetype": "text/x-python",
   "name": "python",
   "nbconvert_exporter": "python",
   "pygments_lexer": "ipython3",
   "version": "3.10.9"
  },
  "orig_nbformat": 4,
  "vscode": {
   "interpreter": {
    "hash": "31f2aee4e71d21fbe5cf8b01ff0e069b9275f58929596ceb00d14d90e3e16cd6"
   }
  }
 },
 "nbformat": 4,
 "nbformat_minor": 2
}
